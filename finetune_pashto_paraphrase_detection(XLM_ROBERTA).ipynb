{
  "nbformat": 4,
  "nbformat_minor": 0,
  "metadata": {
    "colab": {
      "provenance": [],
      "gpuType": "T4",
      "include_colab_link": true
    },
    "kernelspec": {
      "name": "python3",
      "display_name": "Python 3"
    },
    "language_info": {
      "name": "python"
    },
    "accelerator": "GPU"
  },
  "cells": [
    {
      "cell_type": "markdown",
      "metadata": {
        "id": "view-in-github",
        "colab_type": "text"
      },
      "source": [
        "<a href=\"https://colab.research.google.com/github/1122iqra/AttractingContributors-shows-or-series/blob/main/finetune_pashto_paraphrase_detection(XLM_ROBERTA).ipynb\" target=\"_parent\"><img src=\"https://colab.research.google.com/assets/colab-badge.svg\" alt=\"Open In Colab\"/></a>"
      ]
    },
    {
      "cell_type": "code",
      "source": [
        "# Install Libraries\n",
        "!pip install -qq transformers[torch] sentencepiece"
      ],
      "metadata": {
        "id": "_jfsxSKfZnd9"
      },
      "execution_count": 2,
      "outputs": []
    },
    {
      "cell_type": "code",
      "execution_count": 3,
      "metadata": {
        "id": "HWur62QLZCfh"
      },
      "outputs": [],
      "source": [
        "# Import Libraries\n",
        "import time\n",
        "import json\n",
        "\n",
        "import numpy as np\n",
        "import pandas as pd\n",
        "\n",
        "import torch\n",
        "from torch.utils.data import Dataset, DataLoader\n",
        "from transformers import XLMRobertaTokenizer, XLMRobertaForSequenceClassification\n",
        "from transformers import Trainer, TrainingArguments\n",
        "from transformers import AdamW, get_linear_schedule_with_warmup"
      ]
    },
    {
      "cell_type": "code",
      "source": [
        "## make sure that gpu is available\n",
        "torch.cuda.is_available()"
      ],
      "metadata": {
        "colab": {
          "base_uri": "https://localhost:8080/"
        },
        "id": "LDAH2nyibetz",
        "outputId": "9ea9a25e-890d-4bb1-f2fd-f407b3de912c"
      },
      "execution_count": 4,
      "outputs": [
        {
          "output_type": "execute_result",
          "data": {
            "text/plain": [
              "True"
            ]
          },
          "metadata": {},
          "execution_count": 4
        }
      ]
    },
    {
      "cell_type": "code",
      "source": [
        "## First, upload your csv file using column on the left side (via folder icon -> upload button)\n",
        "## After that, run this cell\n",
        "path_file = '/content/Book5.csv'\n",
        "df = pd.read_csv(path_file)\n",
        "df = df.rename(columns={'sentence 1': 'sent1', 'sentence 2': 'sent2'})\n",
        "df = df.dropna()   ### Some cells seem empty and cause error, fix them when you use\n",
        "df['label'] = df['label'].replace({'P': 1, 'NP': 0})\n",
        "df"
      ],
      "metadata": {
        "colab": {
          "base_uri": "https://localhost:8080/",
          "height": 424
        },
        "id": "EhnEUDLeZWCZ",
        "outputId": "cbeeefe2-9ac3-451b-9b24-a39b41f3355b"
      },
      "execution_count": 5,
      "outputs": [
        {
          "output_type": "execute_result",
          "data": {
            "text/plain": [
              "                                                  sent1  \\\n",
              "0     امریکا: یوې روسۍ جټ الوتکې د امریکا له بې پیلو...   \n",
              "1     د ميلي په وينا، تر اوسه معلومه نه ده، چې بريد ...   \n",
              "2     په ترکیه کې د وروستیو زلزلو له امله تر سلو زیا...   \n",
              "3     په سوریه کې یو نوی زیږیدلی ماشوم له خټو څخه ژو...   \n",
              "4     دغه زلزله چې شدت یې د ریښتر په کچه ۵.۶ ښودل شو...   \n",
              "...                                                 ...   \n",
              "5399  چین د علي‌ بابا انلاین تجاري‌ شرکت ته ډیره ستر...   \n",
              "5400        ایران د کوریا برمته کړې ټانکر کښتۍ خوشې کړه   \n",
              "5401  په امریکا کې په یو سوداګریز مرکز وسله وال برید...   \n",
              "5402  د امریکا د سویلي‌ کارولینا په ایالت کې په یو ک...   \n",
              "5403  امریکا پر ایران د لګول شوو بعضو تحریمونو لرې ک...   \n",
              "\n",
              "                                                  sent2  label  \n",
              "0     امریکا وایی، د روسیې یوې الوتکې د امریکا د بې ...      1  \n",
              "1     میلي وویل چې هغه \"تر اوسه ډاډه نه دی\" چې ایا د...      1  \n",
              "2     په ترکیه کې د وروستۍ زلزلې له امله تر سلو زیات...      0  \n",
              "3     د ترکیې او سوریې د زلزلې له امله د مړو شمیر ۸۴...      1  \n",
              "4     د 7.8 درجې زلزلې د دوشنبې په ورځ په داسې حال ک...      0  \n",
              "...                                                 ...    ...  \n",
              "5399  چین د علي‌ بابا شرکت ته داسې نقدي‌ جزا ورکړه چ...      1  \n",
              "5400  ایران د جنوري‌ په ۴ مه نیټه د چاپیریال د ککړول...      1  \n",
              "5401  د امریکا د ټکساس ایالت په یو سوداګریز مرکز وسل...      1  \n",
              "5402        په امریکا کې په یو کور وسله وال برید شوی دی      1  \n",
              "5403  امریکا متحده ایالتونه د ایران او پنځه جمع یو د...      1  \n",
              "\n",
              "[5389 rows x 3 columns]"
            ],
            "text/html": [
              "\n",
              "\n",
              "  <div id=\"df-9a540bbe-3313-4549-9320-d7b3b0872fde\">\n",
              "    <div class=\"colab-df-container\">\n",
              "      <div>\n",
              "<style scoped>\n",
              "    .dataframe tbody tr th:only-of-type {\n",
              "        vertical-align: middle;\n",
              "    }\n",
              "\n",
              "    .dataframe tbody tr th {\n",
              "        vertical-align: top;\n",
              "    }\n",
              "\n",
              "    .dataframe thead th {\n",
              "        text-align: right;\n",
              "    }\n",
              "</style>\n",
              "<table border=\"1\" class=\"dataframe\">\n",
              "  <thead>\n",
              "    <tr style=\"text-align: right;\">\n",
              "      <th></th>\n",
              "      <th>sent1</th>\n",
              "      <th>sent2</th>\n",
              "      <th>label</th>\n",
              "    </tr>\n",
              "  </thead>\n",
              "  <tbody>\n",
              "    <tr>\n",
              "      <th>0</th>\n",
              "      <td>امریکا: یوې روسۍ جټ الوتکې د امریکا له بې پیلو...</td>\n",
              "      <td>امریکا وایی، د روسیې یوې الوتکې د امریکا د بې ...</td>\n",
              "      <td>1</td>\n",
              "    </tr>\n",
              "    <tr>\n",
              "      <th>1</th>\n",
              "      <td>د ميلي په وينا، تر اوسه معلومه نه ده، چې بريد ...</td>\n",
              "      <td>میلي وویل چې هغه \"تر اوسه ډاډه نه دی\" چې ایا د...</td>\n",
              "      <td>1</td>\n",
              "    </tr>\n",
              "    <tr>\n",
              "      <th>2</th>\n",
              "      <td>په ترکیه کې د وروستیو زلزلو له امله تر سلو زیا...</td>\n",
              "      <td>په ترکیه کې د وروستۍ زلزلې له امله تر سلو زیات...</td>\n",
              "      <td>0</td>\n",
              "    </tr>\n",
              "    <tr>\n",
              "      <th>3</th>\n",
              "      <td>په سوریه کې یو نوی زیږیدلی ماشوم له خټو څخه ژو...</td>\n",
              "      <td>د ترکیې او سوریې د زلزلې له امله د مړو شمیر ۸۴...</td>\n",
              "      <td>1</td>\n",
              "    </tr>\n",
              "    <tr>\n",
              "      <th>4</th>\n",
              "      <td>دغه زلزله چې شدت یې د ریښتر په کچه ۵.۶ ښودل شو...</td>\n",
              "      <td>د 7.8 درجې زلزلې د دوشنبې په ورځ په داسې حال ک...</td>\n",
              "      <td>0</td>\n",
              "    </tr>\n",
              "    <tr>\n",
              "      <th>...</th>\n",
              "      <td>...</td>\n",
              "      <td>...</td>\n",
              "      <td>...</td>\n",
              "    </tr>\n",
              "    <tr>\n",
              "      <th>5399</th>\n",
              "      <td>چین د علي‌ بابا انلاین تجاري‌ شرکت ته ډیره ستر...</td>\n",
              "      <td>چین د علي‌ بابا شرکت ته داسې نقدي‌ جزا ورکړه چ...</td>\n",
              "      <td>1</td>\n",
              "    </tr>\n",
              "    <tr>\n",
              "      <th>5400</th>\n",
              "      <td>ایران د کوریا برمته کړې ټانکر کښتۍ خوشې کړه</td>\n",
              "      <td>ایران د جنوري‌ په ۴ مه نیټه د چاپیریال د ککړول...</td>\n",
              "      <td>1</td>\n",
              "    </tr>\n",
              "    <tr>\n",
              "      <th>5401</th>\n",
              "      <td>په امریکا کې په یو سوداګریز مرکز وسله وال برید...</td>\n",
              "      <td>د امریکا د ټکساس ایالت په یو سوداګریز مرکز وسل...</td>\n",
              "      <td>1</td>\n",
              "    </tr>\n",
              "    <tr>\n",
              "      <th>5402</th>\n",
              "      <td>د امریکا د سویلي‌ کارولینا په ایالت کې په یو ک...</td>\n",
              "      <td>په امریکا کې په یو کور وسله وال برید شوی دی</td>\n",
              "      <td>1</td>\n",
              "    </tr>\n",
              "    <tr>\n",
              "      <th>5403</th>\n",
              "      <td>امریکا پر ایران د لګول شوو بعضو تحریمونو لرې ک...</td>\n",
              "      <td>امریکا متحده ایالتونه د ایران او پنځه جمع یو د...</td>\n",
              "      <td>1</td>\n",
              "    </tr>\n",
              "  </tbody>\n",
              "</table>\n",
              "<p>5389 rows × 3 columns</p>\n",
              "</div>\n",
              "      <button class=\"colab-df-convert\" onclick=\"convertToInteractive('df-9a540bbe-3313-4549-9320-d7b3b0872fde')\"\n",
              "              title=\"Convert this dataframe to an interactive table.\"\n",
              "              style=\"display:none;\">\n",
              "\n",
              "  <svg xmlns=\"http://www.w3.org/2000/svg\" height=\"24px\"viewBox=\"0 0 24 24\"\n",
              "       width=\"24px\">\n",
              "    <path d=\"M0 0h24v24H0V0z\" fill=\"none\"/>\n",
              "    <path d=\"M18.56 5.44l.94 2.06.94-2.06 2.06-.94-2.06-.94-.94-2.06-.94 2.06-2.06.94zm-11 1L8.5 8.5l.94-2.06 2.06-.94-2.06-.94L8.5 2.5l-.94 2.06-2.06.94zm10 10l.94 2.06.94-2.06 2.06-.94-2.06-.94-.94-2.06-.94 2.06-2.06.94z\"/><path d=\"M17.41 7.96l-1.37-1.37c-.4-.4-.92-.59-1.43-.59-.52 0-1.04.2-1.43.59L10.3 9.45l-7.72 7.72c-.78.78-.78 2.05 0 2.83L4 21.41c.39.39.9.59 1.41.59.51 0 1.02-.2 1.41-.59l7.78-7.78 2.81-2.81c.8-.78.8-2.07 0-2.86zM5.41 20L4 18.59l7.72-7.72 1.47 1.35L5.41 20z\"/>\n",
              "  </svg>\n",
              "      </button>\n",
              "\n",
              "\n",
              "\n",
              "    <div id=\"df-a95c949c-e198-404c-b42d-872ba645d9ca\">\n",
              "      <button class=\"colab-df-quickchart\" onclick=\"quickchart('df-a95c949c-e198-404c-b42d-872ba645d9ca')\"\n",
              "              title=\"Suggest charts.\"\n",
              "              style=\"display:none;\">\n",
              "\n",
              "<svg xmlns=\"http://www.w3.org/2000/svg\" height=\"24px\"viewBox=\"0 0 24 24\"\n",
              "     width=\"24px\">\n",
              "    <g>\n",
              "        <path d=\"M19 3H5c-1.1 0-2 .9-2 2v14c0 1.1.9 2 2 2h14c1.1 0 2-.9 2-2V5c0-1.1-.9-2-2-2zM9 17H7v-7h2v7zm4 0h-2V7h2v10zm4 0h-2v-4h2v4z\"/>\n",
              "    </g>\n",
              "</svg>\n",
              "      </button>\n",
              "    </div>\n",
              "\n",
              "<style>\n",
              "  .colab-df-quickchart {\n",
              "    background-color: #E8F0FE;\n",
              "    border: none;\n",
              "    border-radius: 50%;\n",
              "    cursor: pointer;\n",
              "    display: none;\n",
              "    fill: #1967D2;\n",
              "    height: 32px;\n",
              "    padding: 0 0 0 0;\n",
              "    width: 32px;\n",
              "  }\n",
              "\n",
              "  .colab-df-quickchart:hover {\n",
              "    background-color: #E2EBFA;\n",
              "    box-shadow: 0px 1px 2px rgba(60, 64, 67, 0.3), 0px 1px 3px 1px rgba(60, 64, 67, 0.15);\n",
              "    fill: #174EA6;\n",
              "  }\n",
              "\n",
              "  [theme=dark] .colab-df-quickchart {\n",
              "    background-color: #3B4455;\n",
              "    fill: #D2E3FC;\n",
              "  }\n",
              "\n",
              "  [theme=dark] .colab-df-quickchart:hover {\n",
              "    background-color: #434B5C;\n",
              "    box-shadow: 0px 1px 3px 1px rgba(0, 0, 0, 0.15);\n",
              "    filter: drop-shadow(0px 1px 2px rgba(0, 0, 0, 0.3));\n",
              "    fill: #FFFFFF;\n",
              "  }\n",
              "</style>\n",
              "\n",
              "    <script>\n",
              "      async function quickchart(key) {\n",
              "        const containerElement = document.querySelector('#' + key);\n",
              "        const charts = await google.colab.kernel.invokeFunction(\n",
              "            'suggestCharts', [key], {});\n",
              "      }\n",
              "    </script>\n",
              "\n",
              "      <script>\n",
              "\n",
              "function displayQuickchartButton(domScope) {\n",
              "  let quickchartButtonEl =\n",
              "    domScope.querySelector('#df-a95c949c-e198-404c-b42d-872ba645d9ca button.colab-df-quickchart');\n",
              "  quickchartButtonEl.style.display =\n",
              "    google.colab.kernel.accessAllowed ? 'block' : 'none';\n",
              "}\n",
              "\n",
              "        displayQuickchartButton(document);\n",
              "      </script>\n",
              "      <style>\n",
              "    .colab-df-container {\n",
              "      display:flex;\n",
              "      flex-wrap:wrap;\n",
              "      gap: 12px;\n",
              "    }\n",
              "\n",
              "    .colab-df-convert {\n",
              "      background-color: #E8F0FE;\n",
              "      border: none;\n",
              "      border-radius: 50%;\n",
              "      cursor: pointer;\n",
              "      display: none;\n",
              "      fill: #1967D2;\n",
              "      height: 32px;\n",
              "      padding: 0 0 0 0;\n",
              "      width: 32px;\n",
              "    }\n",
              "\n",
              "    .colab-df-convert:hover {\n",
              "      background-color: #E2EBFA;\n",
              "      box-shadow: 0px 1px 2px rgba(60, 64, 67, 0.3), 0px 1px 3px 1px rgba(60, 64, 67, 0.15);\n",
              "      fill: #174EA6;\n",
              "    }\n",
              "\n",
              "    [theme=dark] .colab-df-convert {\n",
              "      background-color: #3B4455;\n",
              "      fill: #D2E3FC;\n",
              "    }\n",
              "\n",
              "    [theme=dark] .colab-df-convert:hover {\n",
              "      background-color: #434B5C;\n",
              "      box-shadow: 0px 1px 3px 1px rgba(0, 0, 0, 0.15);\n",
              "      filter: drop-shadow(0px 1px 2px rgba(0, 0, 0, 0.3));\n",
              "      fill: #FFFFFF;\n",
              "    }\n",
              "  </style>\n",
              "\n",
              "      <script>\n",
              "        const buttonEl =\n",
              "          document.querySelector('#df-9a540bbe-3313-4549-9320-d7b3b0872fde button.colab-df-convert');\n",
              "        buttonEl.style.display =\n",
              "          google.colab.kernel.accessAllowed ? 'block' : 'none';\n",
              "\n",
              "        async function convertToInteractive(key) {\n",
              "          const element = document.querySelector('#df-9a540bbe-3313-4549-9320-d7b3b0872fde');\n",
              "          const dataTable =\n",
              "            await google.colab.kernel.invokeFunction('convertToInteractive',\n",
              "                                                     [key], {});\n",
              "          if (!dataTable) return;\n",
              "\n",
              "          const docLinkHtml = 'Like what you see? Visit the ' +\n",
              "            '<a target=\"_blank\" href=https://colab.research.google.com/notebooks/data_table.ipynb>data table notebook</a>'\n",
              "            + ' to learn more about interactive tables.';\n",
              "          element.innerHTML = '';\n",
              "          dataTable['output_type'] = 'display_data';\n",
              "          await google.colab.output.renderOutput(dataTable, element);\n",
              "          const docLink = document.createElement('div');\n",
              "          docLink.innerHTML = docLinkHtml;\n",
              "          element.appendChild(docLink);\n",
              "        }\n",
              "      </script>\n",
              "    </div>\n",
              "  </div>\n"
            ]
          },
          "metadata": {},
          "execution_count": 5
        }
      ]
    },
    {
      "cell_type": "code",
      "source": [
        "## Download a tokenizer using the transformers library\n",
        "tokenizer = XLMRobertaTokenizer.from_pretrained('xlm-roberta-base')"
      ],
      "metadata": {
        "id": "lk72K12LZWtQ"
      },
      "execution_count": 6,
      "outputs": []
    },
    {
      "cell_type": "code",
      "source": [
        "## Create dataset\n",
        "# First split dataset into train/dev/test subset\n",
        "num_train = 3000\n",
        "num_dev = 1500\n",
        "num_test = len(df) - num_train - num_dev\n",
        "\n",
        "train_sent1 = df['sent1'].tolist()[:num_train]\n",
        "train_sent2 = df['sent2'].tolist()[:num_train]\n",
        "train_labels = df['label'].tolist()[:num_train]\n",
        "\n",
        "dev_sent1 = df['sent1'].tolist()[num_train:num_train+num_dev]\n",
        "dev_sent2 = df['sent2'].tolist()[num_train:num_train+num_dev]\n",
        "dev_labels = df['label'].tolist()[num_train:num_train+num_dev]\n",
        "\n",
        "test_sent1 = df['sent1'].tolist()[num_train+num_dev:]\n",
        "test_sent2 = df['sent2'].tolist()[num_train+num_dev:]\n",
        "test_labels = df['label'].tolist()[num_train+num_dev:]"
      ],
      "metadata": {
        "id": "tXtRVbl3ZWyr"
      },
      "execution_count": 7,
      "outputs": []
    },
    {
      "cell_type": "code",
      "source": [
        "# Define Dataset Class\n",
        "class PashtoPPDataset(Dataset):\n",
        "    def __init__(self, encodings, labels):\n",
        "        self.encodings = encodings\n",
        "        self.labels = labels\n",
        "\n",
        "    def __getitem__(self, idx):\n",
        "        item = {key: torch.tensor(val[idx]) for key, val in self.encodings.items()}\n",
        "        item[\"labels\"] = torch.tensor(self.labels[idx])\n",
        "        return item\n",
        "\n",
        "    def __len__(self):\n",
        "        return len(self.labels)"
      ],
      "metadata": {
        "id": "Im2JG7zrRZBO"
      },
      "execution_count": 8,
      "outputs": []
    },
    {
      "cell_type": "code",
      "source": [
        "## Encode data\n",
        "train_encodings = tokenizer(train_sent1, train_sent2, truncation=True, padding=True, max_length=256, return_tensors='pt')\n",
        "dev_encodings = tokenizer(dev_sent1, dev_sent2, truncation=True, padding=True, max_length=256, return_tensors='pt')\n",
        "test_encodings = tokenizer(test_sent1, test_sent2, truncation=True, padding=True, max_length=256, return_tensors='pt')\n",
        "\n",
        "train_dataset = PashtoPPDataset(train_encodings, train_labels)\n",
        "dev_dataset = PashtoPPDataset(dev_encodings, dev_labels)\n",
        "test_dataset = PashtoPPDataset(test_encodings, test_labels)"
      ],
      "metadata": {
        "id": "rpAyKXt0Rj4g"
      },
      "execution_count": 9,
      "outputs": []
    },
    {
      "cell_type": "code",
      "source": [
        "# Check tokenization\n",
        "idx = 10\n",
        "\n",
        "sent_1 = df['sent1'].tolist()[idx]\n",
        "sent_2 = df['sent2'].tolist()[idx]\n",
        "print('Raw Sentence 1 : ', sent_1)\n",
        "print('Raw Sentence 2 : ', sent_2)\n",
        "print('Tokenized Sentence Pair : ', [tokenizer.decode(x) for x in train_encodings['input_ids'][idx]])"
      ],
      "metadata": {
        "colab": {
          "base_uri": "https://localhost:8080/"
        },
        "id": "qpnRiPQoZW8B",
        "outputId": "58f30dc5-75d2-4664-9dc1-3c3ebdc1aebe"
      },
      "execution_count": 10,
      "outputs": [
        {
          "output_type": "stream",
          "name": "stdout",
          "text": [
            "Raw Sentence 1 :  طالبان زموږ د امنیت شورا خبرو ته نه دي رسېدلي\n",
            "Raw Sentence 2 :  امنیت شورا: طالبانو زموږ هیلې نه دي پوره کړي\n",
            "Tokenized Sentence Pair :  ['<s>', 'طالبان', 'زموږ', 'د', 'امنیت', 'شورا', 'خبرو', 'ته', 'نه', 'دي', 'رسېدل', 'ي', '</s>', '</s>', 'امنیت', 'شورا', ':', 'طالبانو', 'زموږ', 'هی', 'لې', 'نه', 'دي', 'پوره', 'کړي', '</s>', '<pad>', '<pad>', '<pad>', '<pad>', '<pad>', '<pad>', '<pad>', '<pad>', '<pad>', '<pad>', '<pad>', '<pad>', '<pad>', '<pad>', '<pad>', '<pad>', '<pad>', '<pad>', '<pad>', '<pad>', '<pad>', '<pad>', '<pad>', '<pad>', '<pad>', '<pad>', '<pad>', '<pad>', '<pad>', '<pad>', '<pad>', '<pad>', '<pad>', '<pad>', '<pad>', '<pad>', '<pad>', '<pad>', '<pad>', '<pad>', '<pad>', '<pad>', '<pad>', '<pad>', '<pad>', '<pad>', '<pad>', '<pad>', '<pad>', '<pad>', '<pad>', '<pad>', '<pad>', '<pad>', '<pad>', '<pad>', '<pad>', '<pad>', '<pad>', '<pad>', '<pad>', '<pad>', '<pad>', '<pad>', '<pad>', '<pad>', '<pad>', '<pad>', '<pad>', '<pad>', '<pad>', '<pad>', '<pad>', '<pad>', '<pad>', '<pad>', '<pad>', '<pad>', '<pad>', '<pad>', '<pad>', '<pad>', '<pad>', '<pad>', '<pad>', '<pad>', '<pad>', '<pad>', '<pad>', '<pad>', '<pad>', '<pad>', '<pad>', '<pad>', '<pad>', '<pad>', '<pad>', '<pad>', '<pad>', '<pad>', '<pad>', '<pad>', '<pad>', '<pad>', '<pad>', '<pad>', '<pad>', '<pad>', '<pad>', '<pad>', '<pad>', '<pad>', '<pad>', '<pad>', '<pad>', '<pad>', '<pad>', '<pad>', '<pad>', '<pad>', '<pad>', '<pad>', '<pad>', '<pad>', '<pad>', '<pad>', '<pad>', '<pad>', '<pad>', '<pad>', '<pad>', '<pad>', '<pad>', '<pad>', '<pad>', '<pad>', '<pad>', '<pad>', '<pad>', '<pad>', '<pad>', '<pad>', '<pad>', '<pad>', '<pad>', '<pad>', '<pad>', '<pad>', '<pad>', '<pad>', '<pad>', '<pad>', '<pad>', '<pad>', '<pad>', '<pad>', '<pad>', '<pad>', '<pad>', '<pad>', '<pad>', '<pad>', '<pad>', '<pad>', '<pad>', '<pad>', '<pad>', '<pad>', '<pad>', '<pad>', '<pad>', '<pad>', '<pad>', '<pad>', '<pad>', '<pad>', '<pad>', '<pad>', '<pad>', '<pad>', '<pad>', '<pad>', '<pad>', '<pad>', '<pad>', '<pad>', '<pad>', '<pad>', '<pad>', '<pad>', '<pad>', '<pad>', '<pad>', '<pad>', '<pad>', '<pad>']\n"
          ]
        }
      ]
    },
    {
      "cell_type": "code",
      "source": [
        "# you can chenge these values and check the difference in outputs\n",
        "batch_size = 32\n",
        "num_epochs = 3\n",
        "learning_rate = 2e-5\n",
        "\n",
        "# Load Model\n",
        "model = XLMRobertaForSequenceClassification.from_pretrained('xlm-roberta-base', num_labels=2)\n",
        "\n",
        "# Define Arguments\n",
        "training_args = TrainingArguments(\n",
        "    per_device_train_batch_size=batch_size,\n",
        "    num_train_epochs=num_epochs,\n",
        "    logging_dir=\"./logs\",\n",
        "    logging_steps=5,\n",
        "    output_dir=\"./output\",\n",
        "    evaluation_strategy=\"epoch\",\n",
        ")\n",
        "\n",
        "# Define Optimizer\n",
        "optimizer = AdamW(model.parameters(), lr=learning_rate)\n",
        "\n",
        "# Define Scheduler\n",
        "num_training_steps = len(train_dataset) // training_args.per_device_train_batch_size * training_args.num_train_epochs\n",
        "scheduler = get_linear_schedule_with_warmup(optimizer, num_warmup_steps=0, num_training_steps=num_training_steps)"
      ],
      "metadata": {
        "colab": {
          "base_uri": "https://localhost:8080/"
        },
        "id": "QmQIvUkpc_FX",
        "outputId": "e42d253c-c09e-4c9f-b60c-ff5f2b8a10c8"
      },
      "execution_count": 11,
      "outputs": [
        {
          "output_type": "stream",
          "name": "stderr",
          "text": [
            "Some weights of XLMRobertaForSequenceClassification were not initialized from the model checkpoint at xlm-roberta-base and are newly initialized: ['classifier.out_proj.weight', 'classifier.dense.weight', 'classifier.out_proj.bias', 'classifier.dense.bias']\n",
            "You should probably TRAIN this model on a down-stream task to be able to use it for predictions and inference.\n",
            "/usr/local/lib/python3.10/dist-packages/transformers/optimization.py:411: FutureWarning: This implementation of AdamW is deprecated and will be removed in a future version. Use the PyTorch implementation torch.optim.AdamW instead, or set `no_deprecation_warning=True` to disable this warning\n",
            "  warnings.warn(\n"
          ]
        }
      ]
    },
    {
      "cell_type": "code",
      "source": [
        "# Set Trainer\n",
        "trainer = Trainer(\n",
        "    model=model,\n",
        "    args=training_args,\n",
        "    train_dataset=train_dataset,\n",
        "    eval_dataset=dev_dataset,\n",
        "    tokenizer=tokenizer,\n",
        "    optimizers=(optimizer, scheduler),\n",
        ")\n",
        "\n",
        "# Start Fine Tuning\n",
        "trainer.train()"
      ],
      "metadata": {
        "colab": {
          "base_uri": "https://localhost:8080/",
          "height": 261
        },
        "id": "jUVQL8AOMFp0",
        "outputId": "a4f31866-f245-46a5-fe90-74148cbc4974"
      },
      "execution_count": 12,
      "outputs": [
        {
          "output_type": "stream",
          "name": "stderr",
          "text": [
            "<ipython-input-8-6a142e7dbb6a>:8: UserWarning: To copy construct from a tensor, it is recommended to use sourceTensor.clone().detach() or sourceTensor.clone().detach().requires_grad_(True), rather than torch.tensor(sourceTensor).\n",
            "  item = {key: torch.tensor(val[idx]) for key, val in self.encodings.items()}\n"
          ]
        },
        {
          "output_type": "display_data",
          "data": {
            "text/plain": [
              "<IPython.core.display.HTML object>"
            ],
            "text/html": [
              "\n",
              "    <div>\n",
              "      \n",
              "      <progress value='282' max='282' style='width:300px; height:20px; vertical-align: middle;'></progress>\n",
              "      [282/282 06:26, Epoch 3/3]\n",
              "    </div>\n",
              "    <table border=\"1\" class=\"dataframe\">\n",
              "  <thead>\n",
              " <tr style=\"text-align: left;\">\n",
              "      <th>Epoch</th>\n",
              "      <th>Training Loss</th>\n",
              "      <th>Validation Loss</th>\n",
              "    </tr>\n",
              "  </thead>\n",
              "  <tbody>\n",
              "    <tr>\n",
              "      <td>1</td>\n",
              "      <td>0.272500</td>\n",
              "      <td>0.123385</td>\n",
              "    </tr>\n",
              "    <tr>\n",
              "      <td>2</td>\n",
              "      <td>0.322300</td>\n",
              "      <td>0.128567</td>\n",
              "    </tr>\n",
              "    <tr>\n",
              "      <td>3</td>\n",
              "      <td>0.145400</td>\n",
              "      <td>0.102190</td>\n",
              "    </tr>\n",
              "  </tbody>\n",
              "</table><p>"
            ]
          },
          "metadata": {}
        },
        {
          "output_type": "execute_result",
          "data": {
            "text/plain": [
              "TrainOutput(global_step=282, training_loss=0.3394542907675107, metrics={'train_runtime': 388.3006, 'train_samples_per_second': 23.178, 'train_steps_per_second': 0.726, 'total_flos': 1026749782440000.0, 'train_loss': 0.3394542907675107, 'epoch': 3.0})"
            ]
          },
          "metadata": {},
          "execution_count": 12
        }
      ]
    },
    {
      "cell_type": "code",
      "source": [
        "# Display loss per epoch\n",
        "log_history = trainer.state.log_history\n",
        "\n",
        "# just for formatting\n",
        "for entry in log_history:\n",
        "    if 'learning_rate' in entry:\n",
        "        entry['learning_rate'] = format(entry['learning_rate'], '.5f')\n",
        "\n",
        "log_history"
      ],
      "metadata": {
        "colab": {
          "base_uri": "https://localhost:8080/"
        },
        "id": "vQBo1QHXMFyQ",
        "outputId": "4308c614-da84-468b-85ef-fb1602cbc281"
      },
      "execution_count": 13,
      "outputs": [
        {
          "output_type": "execute_result",
          "data": {
            "text/plain": [
              "[{'loss': 0.7004, 'learning_rate': '0.00002', 'epoch': 0.05, 'step': 5},\n",
              " {'loss': 0.6758, 'learning_rate': '0.00002', 'epoch': 0.11, 'step': 10},\n",
              " {'loss': 0.7262, 'learning_rate': '0.00002', 'epoch': 0.16, 'step': 15},\n",
              " {'loss': 0.6992, 'learning_rate': '0.00002', 'epoch': 0.21, 'step': 20},\n",
              " {'loss': 0.6861, 'learning_rate': '0.00002', 'epoch': 0.27, 'step': 25},\n",
              " {'loss': 0.6865, 'learning_rate': '0.00002', 'epoch': 0.32, 'step': 30},\n",
              " {'loss': 0.6746, 'learning_rate': '0.00002', 'epoch': 0.37, 'step': 35},\n",
              " {'loss': 0.6346, 'learning_rate': '0.00002', 'epoch': 0.43, 'step': 40},\n",
              " {'loss': 0.6178, 'learning_rate': '0.00002', 'epoch': 0.48, 'step': 45},\n",
              " {'loss': 0.5541, 'learning_rate': '0.00002', 'epoch': 0.53, 'step': 50},\n",
              " {'loss': 0.4633, 'learning_rate': '0.00002', 'epoch': 0.59, 'step': 55},\n",
              " {'loss': 0.4279, 'learning_rate': '0.00002', 'epoch': 0.64, 'step': 60},\n",
              " {'loss': 0.3687, 'learning_rate': '0.00002', 'epoch': 0.69, 'step': 65},\n",
              " {'loss': 0.282, 'learning_rate': '0.00001', 'epoch': 0.74, 'step': 70},\n",
              " {'loss': 0.3712, 'learning_rate': '0.00001', 'epoch': 0.8, 'step': 75},\n",
              " {'loss': 0.3464, 'learning_rate': '0.00001', 'epoch': 0.85, 'step': 80},\n",
              " {'loss': 0.3185, 'learning_rate': '0.00001', 'epoch': 0.9, 'step': 85},\n",
              " {'loss': 0.2725, 'learning_rate': '0.00001', 'epoch': 0.96, 'step': 90},\n",
              " {'eval_loss': 0.12338543683290482,\n",
              "  'eval_runtime': 18.8684,\n",
              "  'eval_samples_per_second': 79.498,\n",
              "  'eval_steps_per_second': 9.964,\n",
              "  'epoch': 1.0,\n",
              "  'step': 94},\n",
              " {'loss': 0.3043, 'learning_rate': '0.00001', 'epoch': 1.01, 'step': 95},\n",
              " {'loss': 0.3508, 'learning_rate': '0.00001', 'epoch': 1.06, 'step': 100},\n",
              " {'loss': 0.3771, 'learning_rate': '0.00001', 'epoch': 1.12, 'step': 105},\n",
              " {'loss': 0.3674, 'learning_rate': '0.00001', 'epoch': 1.17, 'step': 110},\n",
              " {'loss': 0.2986, 'learning_rate': '0.00001', 'epoch': 1.22, 'step': 115},\n",
              " {'loss': 0.2123, 'learning_rate': '0.00001', 'epoch': 1.28, 'step': 120},\n",
              " {'loss': 0.2402, 'learning_rate': '0.00001', 'epoch': 1.33, 'step': 125},\n",
              " {'loss': 0.2317, 'learning_rate': '0.00001', 'epoch': 1.38, 'step': 130},\n",
              " {'loss': 0.2228, 'learning_rate': '0.00001', 'epoch': 1.44, 'step': 135},\n",
              " {'loss': 0.3529, 'learning_rate': '0.00001', 'epoch': 1.49, 'step': 140},\n",
              " {'loss': 0.2979, 'learning_rate': '0.00001', 'epoch': 1.54, 'step': 145},\n",
              " {'loss': 0.2312, 'learning_rate': '0.00001', 'epoch': 1.6, 'step': 150},\n",
              " {'loss': 0.2068, 'learning_rate': '0.00001', 'epoch': 1.65, 'step': 155},\n",
              " {'loss': 0.246, 'learning_rate': '0.00001', 'epoch': 1.7, 'step': 160},\n",
              " {'loss': 0.2267, 'learning_rate': '0.00001', 'epoch': 1.76, 'step': 165},\n",
              " {'loss': 0.2331, 'learning_rate': '0.00001', 'epoch': 1.81, 'step': 170},\n",
              " {'loss': 0.2605, 'learning_rate': '0.00001', 'epoch': 1.86, 'step': 175},\n",
              " {'loss': 0.3357, 'learning_rate': '0.00001', 'epoch': 1.91, 'step': 180},\n",
              " {'loss': 0.3223, 'learning_rate': '0.00001', 'epoch': 1.97, 'step': 185},\n",
              " {'eval_loss': 0.12856654822826385,\n",
              "  'eval_runtime': 18.804,\n",
              "  'eval_samples_per_second': 79.77,\n",
              "  'eval_steps_per_second': 9.998,\n",
              "  'epoch': 2.0,\n",
              "  'step': 188},\n",
              " {'loss': 0.2743, 'learning_rate': '0.00001', 'epoch': 2.02, 'step': 190},\n",
              " {'loss': 0.2263, 'learning_rate': '0.00001', 'epoch': 2.07, 'step': 195},\n",
              " {'loss': 0.1662, 'learning_rate': '0.00001', 'epoch': 2.13, 'step': 200},\n",
              " {'loss': 0.2243, 'learning_rate': '0.00001', 'epoch': 2.18, 'step': 205},\n",
              " {'loss': 0.2362, 'learning_rate': '0.00000', 'epoch': 2.23, 'step': 210},\n",
              " {'loss': 0.2676, 'learning_rate': '0.00000', 'epoch': 2.29, 'step': 215},\n",
              " {'loss': 0.1859, 'learning_rate': '0.00000', 'epoch': 2.34, 'step': 220},\n",
              " {'loss': 0.3203, 'learning_rate': '0.00000', 'epoch': 2.39, 'step': 225},\n",
              " {'loss': 0.2192, 'learning_rate': '0.00000', 'epoch': 2.45, 'step': 230},\n",
              " {'loss': 0.274, 'learning_rate': '0.00000', 'epoch': 2.5, 'step': 235},\n",
              " {'loss': 0.3135, 'learning_rate': '0.00000', 'epoch': 2.55, 'step': 240},\n",
              " {'loss': 0.2695, 'learning_rate': '0.00000', 'epoch': 2.61, 'step': 245},\n",
              " {'loss': 0.2428, 'learning_rate': '0.00000', 'epoch': 2.66, 'step': 250},\n",
              " {'loss': 0.2109, 'learning_rate': '0.00000', 'epoch': 2.71, 'step': 255},\n",
              " {'loss': 0.2652, 'learning_rate': '0.00000', 'epoch': 2.77, 'step': 260},\n",
              " {'loss': 0.1586, 'learning_rate': '0.00000', 'epoch': 2.82, 'step': 265},\n",
              " {'loss': 0.125, 'learning_rate': '0.00000', 'epoch': 2.87, 'step': 270},\n",
              " {'loss': 0.1665, 'learning_rate': '0.00000', 'epoch': 2.93, 'step': 275},\n",
              " {'loss': 0.1454, 'learning_rate': '0.00000', 'epoch': 2.98, 'step': 280},\n",
              " {'eval_loss': 0.102189801633358,\n",
              "  'eval_runtime': 18.7642,\n",
              "  'eval_samples_per_second': 79.94,\n",
              "  'eval_steps_per_second': 10.019,\n",
              "  'epoch': 3.0,\n",
              "  'step': 282},\n",
              " {'train_runtime': 388.3006,\n",
              "  'train_samples_per_second': 23.178,\n",
              "  'train_steps_per_second': 0.726,\n",
              "  'total_flos': 1026749782440000.0,\n",
              "  'train_loss': 0.3394542907675107,\n",
              "  'epoch': 3.0,\n",
              "  'step': 282}]"
            ]
          },
          "metadata": {},
          "execution_count": 13
        }
      ]
    },
    {
      "cell_type": "code",
      "source": [
        "## Check Result\n",
        "\n",
        "# On trained data\n",
        "prediction = trainer.predict(train_dataset)\n",
        "predicted_labels = prediction.predictions.argmax(axis=1)\n",
        "accuracy = (predicted_labels == train_labels).sum() / len(train_labels)\n",
        "print()\n",
        "print('### Train ###')\n",
        "print('Predict Paraphrase : {}, Non-Paraphrase : {}'.format(sum(predicted_labels), len(predicted_labels)-sum(predicted_labels)))\n",
        "print('Actual Paraphrase : {}, Non-Paraphrase : {}'.format(sum(train_labels), len(train_labels)-sum(train_labels)))\n",
        "print('Accuracy : {:.4f}'.format(accuracy))\n",
        "print()\n",
        "\n",
        "# On dev data\n",
        "prediction = trainer.predict(dev_dataset)\n",
        "predicted_labels = prediction.predictions.argmax(axis=1)\n",
        "accuracy = (predicted_labels == dev_labels).sum() / len(dev_labels)\n",
        "print()\n",
        "print('### Dev ###')\n",
        "print('Predict Paraphrase : {}, Non-Paraphrase : {}'.format(sum(predicted_labels), len(predicted_labels)-sum(predicted_labels)))\n",
        "print('Actual Paraphrase : {}, Non-Paraphrase : {}'.format(sum(dev_labels), len(dev_labels)-sum(dev_labels)))\n",
        "print('Accuracy : {:.4f}'.format(accuracy))\n",
        "print()\n",
        "\n",
        "# On test data\n",
        "prediction = trainer.predict(test_dataset)\n",
        "predicted_labels = prediction.predictions.argmax(axis=1)\n",
        "accuracy = (predicted_labels == test_labels).sum() / len(test_labels)\n",
        "print()\n",
        "print('### Test ###')\n",
        "print('Predict Paraphrase : {}, Non-Paraphrase : {}'.format(sum(predicted_labels), len(predicted_labels)-sum(predicted_labels)))\n",
        "print('Actual Paraphrase : {}, Non-Paraphrase : {}'.format(sum(test_labels), len(test_labels)-sum(test_labels)))\n",
        "print('Accuracy : {:.4f}'.format(accuracy))\n",
        "print()\n"
      ],
      "metadata": {
        "colab": {
          "base_uri": "https://localhost:8080/",
          "height": 394
        },
        "id": "duumDcVrMF66",
        "outputId": "7fd1f7d5-2dc7-4165-843c-a5a01f9014e0"
      },
      "execution_count": 14,
      "outputs": [
        {
          "output_type": "stream",
          "name": "stderr",
          "text": [
            "<ipython-input-8-6a142e7dbb6a>:8: UserWarning: To copy construct from a tensor, it is recommended to use sourceTensor.clone().detach() or sourceTensor.clone().detach().requires_grad_(True), rather than torch.tensor(sourceTensor).\n",
            "  item = {key: torch.tensor(val[idx]) for key, val in self.encodings.items()}\n"
          ]
        },
        {
          "output_type": "display_data",
          "data": {
            "text/plain": [
              "<IPython.core.display.HTML object>"
            ],
            "text/html": []
          },
          "metadata": {}
        },
        {
          "output_type": "stream",
          "name": "stdout",
          "text": [
            "\n",
            "### Train ###\n",
            "Predict Paraphrase : 1357, Non-Paraphrase : 1643\n",
            "Actual Paraphrase : 1308, Non-Paraphrase : 1692\n",
            "Accuracy : 0.9457\n",
            "\n"
          ]
        },
        {
          "output_type": "display_data",
          "data": {
            "text/plain": [
              "<IPython.core.display.HTML object>"
            ],
            "text/html": []
          },
          "metadata": {}
        },
        {
          "output_type": "stream",
          "name": "stdout",
          "text": [
            "\n",
            "### Dev ###\n",
            "Predict Paraphrase : 975, Non-Paraphrase : 525\n",
            "Actual Paraphrase : 972, Non-Paraphrase : 528\n",
            "Accuracy : 0.9673\n",
            "\n"
          ]
        },
        {
          "output_type": "display_data",
          "data": {
            "text/plain": [
              "<IPython.core.display.HTML object>"
            ],
            "text/html": []
          },
          "metadata": {}
        },
        {
          "output_type": "stream",
          "name": "stdout",
          "text": [
            "\n",
            "### Test ###\n",
            "Predict Paraphrase : 657, Non-Paraphrase : 232\n",
            "Actual Paraphrase : 662, Non-Paraphrase : 227\n",
            "Accuracy : 0.9809\n",
            "\n"
          ]
        }
      ]
    },
    {
      "cell_type": "code",
      "source": [
        "from transformers import TrainingArguments\n",
        "from sklearn.metrics import classification_report  # Import the classification_report function\n",
        "\n",
        "# Assuming you have defined the 'test_dataset', 'trainer', and 'test_preds_raw' variables\n",
        "test_preds = np.argmax(test_preds_raw, axis=-1)\n",
        "print(classification_report(test_labels, test_preds, digits=3))"
      ],
      "metadata": {
        "colab": {
          "base_uri": "https://localhost:8080/"
        },
        "id": "sTywz3F6ArAX",
        "outputId": "8c1eb654-3fb5-4cc2-8834-394447bd529a"
      },
      "execution_count": 17,
      "outputs": [
        {
          "output_type": "stream",
          "name": "stdout",
          "text": [
            "              precision    recall  f1-score   support\n",
            "\n",
            "           0      0.953     0.974     0.963       227\n",
            "           1      0.991     0.983     0.987       662\n",
            "\n",
            "    accuracy                          0.981       889\n",
            "   macro avg      0.972     0.978     0.975       889\n",
            "weighted avg      0.981     0.981     0.981       889\n",
            "\n"
          ]
        }
      ]
    }
  ]
}